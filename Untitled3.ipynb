{
  "nbformat": 4,
  "nbformat_minor": 0,
  "metadata": {
    "colab": {
      "provenance": [],
      "authorship_tag": "ABX9TyOAoXjYq3sMTL46TGPA+2l3",
      "include_colab_link": true
    },
    "kernelspec": {
      "name": "python3",
      "display_name": "Python 3"
    },
    "language_info": {
      "name": "python"
    }
  },
  "cells": [
    {
      "cell_type": "markdown",
      "metadata": {
        "id": "view-in-github",
        "colab_type": "text"
      },
      "source": [
        "<a href=\"https://colab.research.google.com/github/vanshgehlot9/summer_git/blob/main/Untitled3.ipynb\" target=\"_parent\"><img src=\"https://colab.research.google.com/assets/colab-badge.svg\" alt=\"Open In Colab\"/></a>"
      ]
    },
    {
      "cell_type": "code",
      "execution_count": null,
      "metadata": {
        "id": "L18YhFICOKmK"
      },
      "outputs": [],
      "source": [
        "#CNN ----> Convolutional Neural Network\n",
        "#It is used for image related preprocessing and classification\n",
        "#Image ---> Pixels(0-255) ---> 0px(black) , 255px(white) --->\n",
        "#Normalize ----> (0-1)"
      ]
    },
    {
      "cell_type": "code",
      "source": [
        "#Layers --->\n",
        "#(1) Dense Layer ---> Fully connected Layer , in which output of previous step will be input\n",
        "#of upcoming step\n",
        "#(2) Convolutional Layer ---> Paritially connected layer\n",
        "\n",
        "#If there willl be overfitting then we can use regularization layer .\n",
        "#Pooling Layer ---->"
      ],
      "metadata": {
        "id": "WOsiewwjOw-5"
      },
      "execution_count": null,
      "outputs": []
    },
    {
      "cell_type": "code",
      "source": [
        "import numpy as np\n",
        "a = np.arange(1,10).reshape(3,3)\n",
        "a"
      ],
      "metadata": {
        "colab": {
          "base_uri": "https://localhost:8080/"
        },
        "id": "L25LG76TPXRF",
        "outputId": "b7678b7e-f766-4110-9972-bfff5fa07c55"
      },
      "execution_count": null,
      "outputs": [
        {
          "output_type": "execute_result",
          "data": {
            "text/plain": [
              "array([[1, 2, 3],\n",
              "       [4, 5, 6],\n",
              "       [7, 8, 9]])"
            ]
          },
          "metadata": {},
          "execution_count": 3
        }
      ]
    },
    {
      "cell_type": "code",
      "source": [
        "#stride and Kernel ---> stride means gap of values and kernel means filteration"
      ],
      "metadata": {
        "id": "zHxsEZz_QJJW"
      },
      "execution_count": null,
      "outputs": []
    },
    {
      "cell_type": "code",
      "source": [
        "#In matrix a I will take stride =1 and kernel = (2,2)"
      ],
      "metadata": {
        "id": "uCjYraWlQSz0"
      },
      "execution_count": null,
      "outputs": []
    },
    {
      "cell_type": "code",
      "source": [
        "#Max  , Min Pooling ---->\n",
        "[1,2]         #---> Maximum Number = 5 , Minimum Number = 1 , Average Pooling = (1+2+4+5)/4 = 12/4 = 3\n",
        "[4,5]\n",
        "\n",
        "[2,3]         # ---> Maximum Number = 6 , Minimum Number = 2 , Average Pooling = (2+3+5+6)/4 = 16/4 = 4\n",
        "[5,6]\n",
        "\n",
        "[4,5]         # ---> Maximum Number = 8 , Minimum Number = 4 , Average Pooling = (4+5+7+8)/4 = 24/4 = 6\n",
        "[7,8]\n",
        "\n",
        "[5,6]         # ---> Maximum Number = 9 , Minimum Number = 5 , Average Pooling = (5+6+8+9)/4 = 28/4 = 7\n",
        "[8,9]\n",
        "\n",
        "# ---> Maximum Pooling --> Final Output = [5,6]\n",
        " #                                            [8,9]\n",
        " # ---> Minimum Pooling --> Final Output = [1,2]\n",
        " #                                          [4,5]\n",
        " # ---> Average  Pooling --> Final Output = [3,4]\n",
        " #                                            [6,7]"
      ],
      "metadata": {
        "id": "hDlWiE9IQcY2"
      },
      "execution_count": null,
      "outputs": []
    },
    {
      "cell_type": "code",
      "source": [
        "# Image --> Paraameter (Height , width , color channel(RGB)) ---->\n",
        "# Padding ----->\n",
        "#1 Image = (200,200,3) ,2 Image = (250 ,200 ,3) ---> for model training we have to do some shape of data.\n",
        "# 1 Image ----> 50 0px add\n",
        "\n",
        "# 1 Image = (250 ,200 ,3)\n",
        "# 2 Image = (250 ,200 ,3"
      ],
      "metadata": {
        "id": "ePPCxCoRSbDE"
      },
      "execution_count": null,
      "outputs": []
    },
    {
      "cell_type": "code",
      "source": [
        "# Padding means add 0px  in a matrix of image .\n",
        "#(1). Pre - Padding --> Add pixels in a image in starting\n",
        "# (2). Post - Padding ---> Add Pixels in a image in last"
      ],
      "metadata": {
        "id": "ejcCLAjWS-gm"
      },
      "execution_count": null,
      "outputs": []
    },
    {
      "cell_type": "code",
      "source": [
        "#Flow of work in CNN ----->\n",
        "\n",
        "# Data Gathering ---> Data Cleaning and preprocessing (Feature Engineering)\n",
        "# Apply Model Sequential Architecture (input layer , hidden layer , output layer) --->\n",
        "# Model compile(optimizer , loss function , metrics) -->\n",
        "#Model training ----> Model Prediction ---- Model Accuracy"
      ],
      "metadata": {
        "id": "JKeafiOyWgeL"
      },
      "execution_count": null,
      "outputs": []
    },
    {
      "cell_type": "code",
      "source": [
        "# what are optimizers ?\n",
        "\n",
        "# Loss function ---> Difference (y_actual , y_predicted)\n",
        "# (a) Binary Cross entropy  ---> When we have only 2 sub category in target column\n",
        "#columns(Has_covid). ---> sub(yes , no)\n",
        "# (b) SparseCategorical cross entropy ---> When we have more than 2 sub - categories in target column.\n",
        "#column(colors) --- > sub(red , green , yellow , blue)\n",
        "\n",
        "# Loss minimize ---> optimizers (Adam , SGD)"
      ],
      "metadata": {
        "id": "KK_ofjB0XIWj"
      },
      "execution_count": null,
      "outputs": []
    }
  ]
}